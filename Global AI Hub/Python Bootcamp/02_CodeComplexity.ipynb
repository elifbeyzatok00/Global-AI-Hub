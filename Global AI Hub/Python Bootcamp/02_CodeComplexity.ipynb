{
  "nbformat": 4,
  "nbformat_minor": 0,
  "metadata": {
    "colab": {
      "provenance": []
    },
    "kernelspec": {
      "name": "python3",
      "display_name": "Python 3"
    },
    "language_info": {
      "name": "python"
    }
  },
  "cells": [
    {
      "cell_type": "code",
      "execution_count": 4,
      "metadata": {
        "id": "TmPht6mU8gPO"
      },
      "outputs": [],
      "source": [
        "def multiplication(x, y):\n",
        "  return x * y"
      ]
    },
    {
      "cell_type": "code",
      "source": [
        "multiplication(10, 15000)"
      ],
      "metadata": {
        "colab": {
          "base_uri": "https://localhost:8080/"
        },
        "id": "GmGrzVp69Biq",
        "outputId": "923ac879-3ff3-4f84-8e2a-24ed8a47e5fb"
      },
      "execution_count": 5,
      "outputs": [
        {
          "output_type": "execute_result",
          "data": {
            "text/plain": [
              "150000"
            ]
          },
          "metadata": {},
          "execution_count": 5
        }
      ]
    },
    {
      "cell_type": "code",
      "source": [
        "# Problem: 1'den n'e kadar tüm sayıların karesini alıp toplasın\n",
        "# Çözüm:\n",
        "def square_sum(n):\n",
        "  sum_variable = 0\n",
        "  for x in range(1, n+1):  # x => 1, 2, 3\n",
        "    sum_variable += x **2\n",
        "  return sum_variable\n"
      ],
      "metadata": {
        "id": "xznpeW_z9MZL"
      },
      "execution_count": 7,
      "outputs": []
    },
    {
      "cell_type": "code",
      "source": [
        "square_sum(3)"
      ],
      "metadata": {
        "colab": {
          "base_uri": "https://localhost:8080/"
        },
        "id": "ukQEVbME9pBm",
        "outputId": "2ea1bd20-9781-4985-dac8-b7cd49c0a76d"
      },
      "execution_count": 8,
      "outputs": [
        {
          "output_type": "execute_result",
          "data": {
            "text/plain": [
              "14"
            ]
          },
          "metadata": {},
          "execution_count": 8
        }
      ]
    },
    {
      "cell_type": "code",
      "source": [
        "# matematiksel formülü\n",
        "def square_sum2(n):\n",
        "  return n * (n+1) * (2*n+1) // 6"
      ],
      "metadata": {
        "id": "weRg9v44-GAa"
      },
      "execution_count": 11,
      "outputs": []
    },
    {
      "cell_type": "code",
      "source": [
        "square_sum2(3)"
      ],
      "metadata": {
        "colab": {
          "base_uri": "https://localhost:8080/"
        },
        "id": "ds64ItxX-vcv",
        "outputId": "3bf2dd3b-89cc-444b-c652-86bb6d7c47db"
      },
      "execution_count": 12,
      "outputs": [
        {
          "output_type": "execute_result",
          "data": {
            "text/plain": [
              "14"
            ]
          },
          "metadata": {},
          "execution_count": 12
        }
      ]
    },
    {
      "cell_type": "code",
      "source": [
        "%timeit square_sum(5)"
      ],
      "metadata": {
        "colab": {
          "base_uri": "https://localhost:8080/"
        },
        "id": "VyKq0EAF-xDe",
        "outputId": "416d1783-a869-4fd8-9af7-5d37778a754a"
      },
      "execution_count": 14,
      "outputs": [
        {
          "output_type": "stream",
          "name": "stdout",
          "text": [
            "1.89 µs ± 284 ns per loop (mean ± std. dev. of 7 runs, 1000000 loops each)\n"
          ]
        }
      ]
    },
    {
      "cell_type": "code",
      "source": [
        "# %timeit  funk çalışma süresini verir. running time ı\n",
        "# µs (ms mikrosecand 10^(-6)), ns(nanosecand 10^(-9))\n",
        "# ns(nanosecand 10^(-9)) daha hızlı daha kısa sürede çözülür"
      ],
      "metadata": {
        "id": "Rp21SjpY_Xt8"
      },
      "execution_count": 15,
      "outputs": []
    },
    {
      "cell_type": "code",
      "source": [
        "# Big O(n) - kod karmaşıklığının açıklar, proje maliyeti hesaplamayı sağlar"
      ],
      "metadata": {
        "id": "hiC-2fixAWuK"
      },
      "execution_count": 16,
      "outputs": []
    },
    {
      "cell_type": "code",
      "source": [
        "# O(1) constant\n",
        "# Big O(n) worst case en kötü durum\n",
        "# Teta orta durum\n",
        "# omega en iyi durum"
      ],
      "metadata": {
        "id": "yH-3VihzBYAv"
      },
      "execution_count": 17,
      "outputs": []
    },
    {
      "cell_type": "code",
      "source": [],
      "metadata": {
        "id": "PUSa-DRLEKp_"
      },
      "execution_count": null,
      "outputs": []
    },
    {
      "cell_type": "code",
      "source": [
        "def constant_big_o(liste):\n",
        "  print(liste[0])"
      ],
      "metadata": {
        "id": "oTFXtNTsDqbY"
      },
      "execution_count": 18,
      "outputs": []
    },
    {
      "cell_type": "code",
      "source": [
        "constant_big_o([1,2,3,4,5,6,7,8,9,10])"
      ],
      "metadata": {
        "colab": {
          "base_uri": "https://localhost:8080/"
        },
        "id": "fSNplrADDwwh",
        "outputId": "58e69a43-acd4-45bf-f18c-6cfe3bc3b14d"
      },
      "execution_count": 19,
      "outputs": [
        {
          "output_type": "stream",
          "name": "stdout",
          "text": [
            "1\n"
          ]
        }
      ]
    },
    {
      "cell_type": "code",
      "source": [
        "# inputtan bağımsız bir içerik ürettik\n",
        "# constant bir big o - Omega"
      ],
      "metadata": {
        "id": "NvqfhV9YD57_"
      },
      "execution_count": null,
      "outputs": []
    },
    {
      "cell_type": "code",
      "source": [],
      "metadata": {
        "id": "JzqCwbNdEL1a"
      },
      "execution_count": null,
      "outputs": []
    },
    {
      "cell_type": "code",
      "source": [
        "# O(n) Linear -input kadar çıktı verir, input size ile doğru orantılıdır\n",
        "def linear_big_o(liste):\n",
        "  for value in liste:\n",
        "    print(value)"
      ],
      "metadata": {
        "id": "Io63Xdb6EMsB"
      },
      "execution_count": 20,
      "outputs": []
    },
    {
      "cell_type": "code",
      "source": [
        "linear_big_o([1,2,3,4,5])"
      ],
      "metadata": {
        "colab": {
          "base_uri": "https://localhost:8080/"
        },
        "id": "gy5kR4I1EhIS",
        "outputId": "d8e45a24-7328-4ecd-9b16-0fbec6571efe"
      },
      "execution_count": 21,
      "outputs": [
        {
          "output_type": "stream",
          "name": "stdout",
          "text": [
            "1\n",
            "2\n",
            "3\n",
            "4\n",
            "5\n"
          ]
        }
      ]
    },
    {
      "cell_type": "code",
      "source": [
        "# O(n^2) - nested loop\n",
        "\n",
        "# içinde aynı değerler varsa True döner yoksa false\n",
        "def find_duplicates(liste):\n",
        "  for i in range(len(liste)):\n",
        "    for j in range(i+1, len(liste)):\n",
        "      if liste[i] == liste[j]:\n",
        "        return True\n",
        "  return false"
      ],
      "metadata": {
        "id": "TVPjs-s_FFuS"
      },
      "execution_count": 23,
      "outputs": []
    },
    {
      "cell_type": "code",
      "source": [
        "find_duplicates([1,2,3,4,5,6,6])"
      ],
      "metadata": {
        "colab": {
          "base_uri": "https://localhost:8080/"
        },
        "id": "bvN9-QC4Fjty",
        "outputId": "75c16368-d0ea-40e7-84d6-ae479cbe64a8"
      },
      "execution_count": 24,
      "outputs": [
        {
          "output_type": "execute_result",
          "data": {
            "text/plain": [
              "True"
            ]
          },
          "metadata": {},
          "execution_count": 24
        }
      ]
    },
    {
      "cell_type": "code",
      "source": [
        "# O(n^3) Cubic\n",
        "\n",
        "def cubic_big_o(liste):\n",
        "  for item_1 in liste:\n",
        "    for item_2 in liste:\n",
        "      for item_3 in liste:\n",
        "        print(item_1, item_2, item_3)"
      ],
      "metadata": {
        "id": "RmzOXxQxEkET"
      },
      "execution_count": 26,
      "outputs": []
    },
    {
      "cell_type": "code",
      "source": [
        "cubic_big_o([1,2,3])"
      ],
      "metadata": {
        "colab": {
          "base_uri": "https://localhost:8080/"
        },
        "id": "gTPG9f92GXB8",
        "outputId": "c0705a96-88a4-4aa8-a6be-20c1389709e0"
      },
      "execution_count": 27,
      "outputs": [
        {
          "output_type": "stream",
          "name": "stdout",
          "text": [
            "1 1 1\n",
            "1 1 2\n",
            "1 1 3\n",
            "1 2 1\n",
            "1 2 2\n",
            "1 2 3\n",
            "1 3 1\n",
            "1 3 2\n",
            "1 3 3\n",
            "2 1 1\n",
            "2 1 2\n",
            "2 1 3\n",
            "2 2 1\n",
            "2 2 2\n",
            "2 2 3\n",
            "2 3 1\n",
            "2 3 2\n",
            "2 3 3\n",
            "3 1 1\n",
            "3 1 2\n",
            "3 1 3\n",
            "3 2 1\n",
            "3 2 2\n",
            "3 2 3\n",
            "3 3 1\n",
            "3 3 2\n",
            "3 3 3\n"
          ]
        }
      ]
    },
    {
      "cell_type": "code",
      "source": [
        "# döngüler complixty artırır olabildiğince kullanımından kaçınmak gerekir"
      ],
      "metadata": {
        "id": "uGSVNQz5Ghb8"
      },
      "execution_count": 28,
      "outputs": []
    },
    {
      "cell_type": "code",
      "source": [],
      "metadata": {
        "id": "yp0B65EcHfG6"
      },
      "execution_count": null,
      "outputs": []
    },
    {
      "cell_type": "code",
      "source": [
        "def linear_big_o(liste):\n",
        "  for value in liste:\n",
        "    print(value)\n",
        "  for value in liste:\n",
        "    print(value)"
      ],
      "metadata": {
        "id": "wbvUDnllGq8G"
      },
      "execution_count": 29,
      "outputs": []
    },
    {
      "cell_type": "code",
      "source": [
        "linear_big_o([1,2,3,4])"
      ],
      "metadata": {
        "colab": {
          "base_uri": "https://localhost:8080/"
        },
        "id": "HJu_IHWCH4AZ",
        "outputId": "06cb9576-24a9-4b07-e40f-ec082492b76a"
      },
      "execution_count": 30,
      "outputs": [
        {
          "output_type": "stream",
          "name": "stdout",
          "text": [
            "1\n",
            "2\n",
            "3\n",
            "4\n",
            "1\n",
            "2\n",
            "3\n",
            "4\n"
          ]
        }
      ]
    },
    {
      "cell_type": "code",
      "source": [
        "# 2 döngü var ama nested(iç içe değil), ayrı ayrı\n",
        "# O(n)+O(n) = O(2n) -> O(n)"
      ],
      "metadata": {
        "id": "fSKiuc5JHw3x"
      },
      "execution_count": null,
      "outputs": []
    }
  ]
}