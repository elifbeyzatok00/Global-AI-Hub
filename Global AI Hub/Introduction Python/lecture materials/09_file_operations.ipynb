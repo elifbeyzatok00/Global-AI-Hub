{
  "nbformat": 4,
  "nbformat_minor": 0,
  "metadata": {
    "colab": {
      "name": "File_Operations_updated.ipynb",
      "provenance": [],
      "collapsed_sections": []
    },
    "kernelspec": {
      "name": "python3",
      "display_name": "Python 3"
    },
    "language_info": {
      "name": "python"
    }
  },
  "cells": [
    {
      "cell_type": "markdown",
      "source": [
        "#Create a file\n",
        "\n",
        "\n",
        "\n",
        "1.   Create a folder called \"file_operations\".\n",
        "2.   Create a file called \"message.txt\" inside \"file_operations\" folder\n",
        "\n",
        "\n",
        "\n",
        "\n"
      ],
      "metadata": {
        "id": "4vsuKp1Fn1rR"
      }
    },
    {
      "cell_type": "code",
      "execution_count": null,
      "metadata": {
        "id": "vGiW6Yl8mMy5"
      },
      "outputs": [],
      "source": [
        "# Navigate to message.txt’s directory\n",
        "%cd /content/file_operations"
      ]
    },
    {
      "cell_type": "code",
      "source": [
        "# opens hello.txt text file in the current directory\n",
        "message_file = open(\"message.txt\")"
      ],
      "metadata": {
        "id": "Ts-Gogiroc0U"
      },
      "execution_count": null,
      "outputs": []
    },
    {
      "cell_type": "code",
      "source": [
        "# specifying the full path\n",
        "message_file = open(\"/content/file_operations/message.txt\")"
      ],
      "metadata": {
        "id": "-oxnKr-yog6G"
      },
      "execution_count": null,
      "outputs": []
    },
    {
      "cell_type": "code",
      "source": [
        "message_file = open(\"message.txt\", \"r\")"
      ],
      "metadata": {
        "id": "v6FTiSivopbg"
      },
      "execution_count": null,
      "outputs": []
    },
    {
      "cell_type": "code",
      "source": [
        "content = message_file.read()\n",
        "message_file.close()"
      ],
      "metadata": {
        "id": "Y6VsltxJrxl5"
      },
      "execution_count": null,
      "outputs": []
    },
    {
      "cell_type": "code",
      "source": [
        "print(content)"
      ],
      "metadata": {
        "id": "Z_qkSuwerzpx"
      },
      "execution_count": null,
      "outputs": []
    },
    {
      "cell_type": "code",
      "source": [
        "hello_file = open(\"hello.txt\", \"w\")"
      ],
      "metadata": {
        "id": "98pZ6mwbr1wi"
      },
      "execution_count": null,
      "outputs": []
    },
    {
      "cell_type": "code",
      "source": [
        "hello_file.write('Hello world, this is Python')\n",
        "hello_file.close()"
      ],
      "metadata": {
        "id": "ddfzs2aQr7yZ"
      },
      "execution_count": null,
      "outputs": []
    },
    {
      "cell_type": "code",
      "source": [
        "​​import random\n",
        "while True:\n",
        "\n",
        "  random_number = random.randrange(1000)\n",
        "  print(random_number)\n",
        " \n",
        "  if random_number == 777:\n",
        "    print('Found!')\n",
        "    break"
      ],
      "metadata": {
        "id": "P1foCjY3sG5a"
      },
      "execution_count": null,
      "outputs": []
    },
    {
      "cell_type": "code",
      "source": [
        "import random\n",
        " \n",
        "numbers_file = open('number_history.txt', 'w')\n",
        " \n",
        "while True:\n",
        " \n",
        "  random_number = random.randrange(1000)\n",
        "  print(random_number)\n",
        "  numbers_file.write(str(random_number))\n",
        "  numbers_file.write('\\n')\n",
        " \n",
        "  if random_number == 777:\n",
        "    print('Found!')\n",
        "    numbers_file.write('Found!')\n",
        "    numbers_file.close()\n",
        "    break"
      ],
      "metadata": {
        "id": "8rJRc5K7sKFe"
      },
      "execution_count": null,
      "outputs": []
    },
    {
      "cell_type": "code",
      "source": [
        "import random\n",
        " \n",
        "with open('number_history.txt', 'w') as numbers_file:\n",
        " \n",
        "  while True:\n",
        "\n",
        "    random_number = random.randrange(1000)\n",
        "    print(random_number)\n",
        "    numbers_file.write(str(random_number))\n",
        "    numbers_file.write('\\n')\n",
        " \n",
        "    if random_number == 777:\n",
        "      print('Found!')\n",
        "      numbers_file.write('Found!')\n",
        "      break"
      ],
      "metadata": {
        "id": "97X8-s6ysmW_"
      },
      "execution_count": null,
      "outputs": []
    }
  ]
}