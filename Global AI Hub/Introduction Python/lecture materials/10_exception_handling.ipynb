{
  "nbformat": 4,
  "nbformat_minor": 0,
  "metadata": {
    "colab": {
      "name": "Excepiton-Handling.ipynb",
      "provenance": [],
      "collapsed_sections": []
    },
    "kernelspec": {
      "name": "python3",
      "display_name": "Python 3"
    },
    "language_info": {
      "name": "python"
    }
  },
  "cells": [
    {
      "cell_type": "code",
      "execution_count": 1,
      "metadata": {
        "colab": {
          "base_uri": "https://localhost:8080/",
          "height": 225
        },
        "id": "iLbI0tAPv2be",
        "outputId": "6663da6e-98a4-4e44-9856-75e582bc5ace"
      },
      "outputs": [
        {
          "name": "stdout",
          "output_type": "stream",
          "text": [
            "Please enter a Number: 5\n"
          ]
        },
        {
          "output_type": "error",
          "ename": "TypeError",
          "evalue": "ignored",
          "traceback": [
            "\u001b[0;31m---------------------------------------------------------------------------\u001b[0m",
            "\u001b[0;31mTypeError\u001b[0m                                 Traceback (most recent call last)",
            "\u001b[0;32m<ipython-input-1-676bf0715fc6>\u001b[0m in \u001b[0;36m<module>\u001b[0;34m()\u001b[0m\n\u001b[1;32m      1\u001b[0m \u001b[0mnumber1\u001b[0m\u001b[0;34m=\u001b[0m \u001b[0;36m15\u001b[0m\u001b[0;34m\u001b[0m\u001b[0;34m\u001b[0m\u001b[0m\n\u001b[1;32m      2\u001b[0m \u001b[0mnumber2\u001b[0m \u001b[0;34m=\u001b[0m \u001b[0minput\u001b[0m\u001b[0;34m(\u001b[0m\u001b[0;34m'Please enter a Number: '\u001b[0m\u001b[0;34m)\u001b[0m\u001b[0;34m\u001b[0m\u001b[0;34m\u001b[0m\u001b[0m\n\u001b[0;32m----> 3\u001b[0;31m \u001b[0mprint\u001b[0m\u001b[0;34m(\u001b[0m\u001b[0mnumber1\u001b[0m \u001b[0;34m+\u001b[0m \u001b[0mnumber2\u001b[0m\u001b[0;34m)\u001b[0m\u001b[0;34m\u001b[0m\u001b[0;34m\u001b[0m\u001b[0m\n\u001b[0m",
            "\u001b[0;31mTypeError\u001b[0m: unsupported operand type(s) for +: 'int' and 'str'"
          ]
        }
      ],
      "source": [
        "number1= 15\n",
        "number2 = input('Please enter a Number: ')\n",
        "print(number1 + number2)"
      ]
    },
    {
      "cell_type": "code",
      "source": [
        "celsius = 18\n",
        "if celsius > 20:\n",
        "  print('Good 🟩')\n",
        "  else:\n",
        "    print('Cold ❄️')"
      ],
      "metadata": {
        "colab": {
          "base_uri": "https://localhost:8080/",
          "height": 134
        },
        "id": "Xa-m0olIv_t4",
        "outputId": "167b7a26-2ba6-4e00-94b8-eb8207932dc9"
      },
      "execution_count": 4,
      "outputs": [
        {
          "output_type": "error",
          "ename": "SyntaxError",
          "evalue": "ignored",
          "traceback": [
            "\u001b[0;36m  File \u001b[0;32m\"<ipython-input-4-f311b3d73e28>\"\u001b[0;36m, line \u001b[0;32m4\u001b[0m\n\u001b[0;31m    else:\u001b[0m\n\u001b[0m       ^\u001b[0m\n\u001b[0;31mSyntaxError\u001b[0m\u001b[0;31m:\u001b[0m invalid syntax\n"
          ]
        }
      ]
    },
    {
      "cell_type": "code",
      "source": [
        "def divide(number1, number2):\n",
        "   number1_integer = int(number1)\n",
        "   number2_integer = int(number2)\n",
        "   return number1_integer / number2_integer\n",
        " \n",
        "number1 = input('Please provide number1: ')\n",
        "number2 = input('Please provide number2: ')\n",
        " \n",
        "print(divide(number1, number2))"
      ],
      "metadata": {
        "id": "B_JN3n-ewIhl"
      },
      "execution_count": null,
      "outputs": []
    },
    {
      "cell_type": "code",
      "source": [
        "def divide(number1, number2):\n",
        "   try:\n",
        "       number1_integer = int(number1)\n",
        "       number2_integer = int(number2)\n",
        "       return number1_integer / number2_integer\n",
        " \n",
        "   except:\n",
        "       return 'Only integers are allowed! Try again.'\n",
        " \n",
        "number1 = input('Please provide a number1: ')\n",
        "number2 = input('Please provide a number2: ')\n",
        " \n",
        "print(divide(number1, number2))"
      ],
      "metadata": {
        "id": "pNCd4AhrwZ2q"
      },
      "execution_count": null,
      "outputs": []
    },
    {
      "cell_type": "code",
      "source": [
        "def divide(number1, number2):\n",
        "   try:\n",
        "       number1_integer = int(number1)\n",
        "       number2_integer = int(number2)\n",
        "       return number1_integer / number2_integer\n",
        "  \n",
        "   except ValueError:\n",
        "       return 'Only integers are allowed!'\n",
        " \n",
        "   except ZeroDivisionError:\n",
        "       return 'You cannot divide any number by zero!'\n",
        "\n",
        "\n",
        "\n",
        "number1 = input('Please provide a number1: ')\n",
        "number2 = input('Please provide a number2: ')\n",
        " \n",
        "print(divide(number1, number2))"
      ],
      "metadata": {
        "id": "XknaWgVbwalQ"
      },
      "execution_count": null,
      "outputs": []
    }
  ]
}