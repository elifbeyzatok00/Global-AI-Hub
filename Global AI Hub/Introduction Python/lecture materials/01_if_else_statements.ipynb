{
  "nbformat": 4,
  "nbformat_minor": 0,
  "metadata": {
    "colab": {
      "name": "If-Else Statements.ipynb",
      "provenance": [],
      "collapsed_sections": []
    },
    "kernelspec": {
      "name": "python3",
      "display_name": "Python 3"
    },
    "language_info": {
      "name": "python"
    }
  },
  "cells": [
    {
      "cell_type": "code",
      "execution_count": 1,
      "metadata": {
        "colab": {
          "base_uri": "https://localhost:8080/"
        },
        "id": "aD_OzFaB5vmY",
        "outputId": "9db718db-a281-42af-cef0-425b76f2d21a"
      },
      "outputs": [
        {
          "output_type": "stream",
          "name": "stdout",
          "text": [
            "Good 🟩\n"
          ]
        }
      ],
      "source": [
        "celsius = 25\n",
        "if celsius > 20:\n",
        "  print('Good 🟩')"
      ]
    },
    {
      "cell_type": "code",
      "source": [
        "celsius = 18\n",
        "if celsius > 20:\n",
        "  print('Good 🟩')"
      ],
      "metadata": {
        "id": "74-_wZlL51f1"
      },
      "execution_count": 2,
      "outputs": []
    },
    {
      "cell_type": "code",
      "source": [
        "celsius = 18\n",
        "if celsius > 20:\n",
        "  print('Good 🟩')\n",
        "else:\n",
        "  print('Cold ❄️')"
      ],
      "metadata": {
        "colab": {
          "base_uri": "https://localhost:8080/"
        },
        "id": "-SSIh0iv53K4",
        "outputId": "2c9a0fc8-cd9d-4c8f-8d99-76964b14a310"
      },
      "execution_count": 3,
      "outputs": [
        {
          "output_type": "stream",
          "name": "stdout",
          "text": [
            "Cold ❄️\n"
          ]
        }
      ]
    },
    {
      "cell_type": "code",
      "source": [
        "celsius = 32\n",
        "if celsius > 30:\n",
        "  print('Hot 🔥')\n",
        "if celsius > 20:\n",
        "  print('Good 🟩')\n",
        "else: \n",
        "  print('Cold ❄️')"
      ],
      "metadata": {
        "colab": {
          "base_uri": "https://localhost:8080/"
        },
        "id": "Wm_vcxQW544b",
        "outputId": "061da595-5153-41cf-8ff4-3e71a3e004af"
      },
      "execution_count": 4,
      "outputs": [
        {
          "output_type": "stream",
          "name": "stdout",
          "text": [
            "Hot 🔥\n",
            "Good 🟩\n"
          ]
        }
      ]
    },
    {
      "cell_type": "code",
      "source": [
        "celsius = 32\n",
        "if celsius > 30:\n",
        "  print('Hot 🔥')\n",
        "elif celsius > 20:\n",
        "  print('Good 🟩')\n",
        "else: \n",
        "  print('Cold ❄️')"
      ],
      "metadata": {
        "colab": {
          "base_uri": "https://localhost:8080/"
        },
        "id": "qE-u5u2W58p5",
        "outputId": "76a95715-80e9-4602-e00b-0f6760bed140"
      },
      "execution_count": 5,
      "outputs": [
        {
          "output_type": "stream",
          "name": "stdout",
          "text": [
            "Hot 🔥\n"
          ]
        }
      ]
    },
    {
      "cell_type": "code",
      "source": [
        "celsius = 32\n",
        " \n",
        "if celsius > 30:\n",
        "  print('Hot 🔥')\n",
        "elif 30 >= celsius > 20:\n",
        "  print('Good 🟩')\n",
        "elif -273 < celsius <= 20:\n",
        "  print('Cold ❄️')\n",
        "else:\n",
        "  print('Something went wrong!')"
      ],
      "metadata": {
        "colab": {
          "base_uri": "https://localhost:8080/"
        },
        "id": "t3IOFpmW6FP1",
        "outputId": "ff5e76a1-da35-4281-dd13-34220d15137c"
      },
      "execution_count": 6,
      "outputs": [
        {
          "output_type": "stream",
          "name": "stdout",
          "text": [
            "Hot 🔥\n"
          ]
        }
      ]
    },
    {
      "cell_type": "code",
      "source": [
        "drivers_licence = True\n",
        "age = 17\n",
        " \n",
        "if age > 17:\n",
        "    if drivers_licence:\n",
        "        print('You can drive car')\n",
        "    else:\n",
        "        print('You need to go to a drivers licence course')\n",
        "else:\n",
        "    print('You need to get older')"
      ],
      "metadata": {
        "colab": {
          "base_uri": "https://localhost:8080/"
        },
        "id": "UEiL47E16HOp",
        "outputId": "02b3ce5f-ffa3-4210-8e18-0e34ec732cb6"
      },
      "execution_count": 8,
      "outputs": [
        {
          "output_type": "stream",
          "name": "stdout",
          "text": [
            "You need to get older\n"
          ]
        }
      ]
    }
  ]
}