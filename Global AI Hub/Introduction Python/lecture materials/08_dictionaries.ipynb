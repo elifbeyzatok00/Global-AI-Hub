{
  "nbformat": 4,
  "nbformat_minor": 0,
  "metadata": {
    "colab": {
      "name": "dictionaries.ipynb",
      "provenance": []
    },
    "kernelspec": {
      "name": "python3",
      "display_name": "Python 3"
    },
    "language_info": {
      "name": "python"
    }
  },
  "cells": [
    {
      "cell_type": "code",
      "execution_count": 1,
      "metadata": {
        "colab": {
          "base_uri": "https://localhost:8080/"
        },
        "id": "4wtb2n1Ok4bT",
        "outputId": "d689d150-46c6-4d01-8a29-4dd9c5171cc2"
      },
      "outputs": [
        {
          "output_type": "stream",
          "name": "stdout",
          "text": [
            "{'Deniz Kaya': '+90 505 123 45 67', 'Selin Demir': '+49 157 12345678', 'Ali Can': '+1 234 235 5678'}\n"
          ]
        }
      ],
      "source": [
        "phone_book = {'Deniz Kaya':'+90 505 123 45 67', 'Selin Demir': '+49 157 12345678', 'Ali Can':'+1 234 235 5678'}\n",
        "print(phone_book)"
      ]
    },
    {
      "cell_type": "code",
      "source": [
        "print(phone_book['Deniz Kaya'])"
      ],
      "metadata": {
        "colab": {
          "base_uri": "https://localhost:8080/"
        },
        "id": "q0R35GrhlDNv",
        "outputId": "c51412c5-7f2d-47fe-dc4d-29fce6d7cb1e"
      },
      "execution_count": 2,
      "outputs": [
        {
          "output_type": "stream",
          "name": "stdout",
          "text": [
            "+90 505 123 45 67\n"
          ]
        }
      ]
    },
    {
      "cell_type": "code",
      "source": [
        "inventory = dict()\n",
        "inventory['bananas'] = 25\n",
        "inventory['apples'] = 102\n",
        "inventory['oranges'] = 54\n",
        "inventory['watermelons'] = 4"
      ],
      "metadata": {
        "id": "0QnL__WxlGkq"
      },
      "execution_count": 3,
      "outputs": []
    },
    {
      "cell_type": "code",
      "source": [
        "print(inventory)"
      ],
      "metadata": {
        "colab": {
          "base_uri": "https://localhost:8080/"
        },
        "id": "6gekpHb-lIuc",
        "outputId": "6b3084e2-7eab-42c2-8ed1-29ff26511afa"
      },
      "execution_count": 4,
      "outputs": [
        {
          "output_type": "stream",
          "name": "stdout",
          "text": [
            "{'bananas': 25, 'apples': 102, 'oranges': 54, 'watermelons': 4}\n"
          ]
        }
      ]
    },
    {
      "cell_type": "code",
      "source": [
        "print(inventory['apples'])"
      ],
      "metadata": {
        "colab": {
          "base_uri": "https://localhost:8080/"
        },
        "id": "4gY80Kf5lKcS",
        "outputId": "b96cec85-02c0-45e2-e66d-9f9a743035fb"
      },
      "execution_count": 5,
      "outputs": [
        {
          "output_type": "stream",
          "name": "stdout",
          "text": [
            "102\n"
          ]
        }
      ]
    },
    {
      "cell_type": "code",
      "source": [
        "print(inventory.keys())"
      ],
      "metadata": {
        "colab": {
          "base_uri": "https://localhost:8080/"
        },
        "id": "cjlmVe7YlMgS",
        "outputId": "97f16c19-631d-4f7f-b5db-c838da594670"
      },
      "execution_count": 6,
      "outputs": [
        {
          "output_type": "stream",
          "name": "stdout",
          "text": [
            "dict_keys(['bananas', 'apples', 'oranges', 'watermelons'])\n"
          ]
        }
      ]
    },
    {
      "cell_type": "code",
      "source": [
        "print(inventory.values())"
      ],
      "metadata": {
        "colab": {
          "base_uri": "https://localhost:8080/"
        },
        "id": "U11xWcn0lO-I",
        "outputId": "8a8add1a-bb78-4075-a9d5-a6e56637966c"
      },
      "execution_count": 7,
      "outputs": [
        {
          "output_type": "stream",
          "name": "stdout",
          "text": [
            "dict_values([25, 102, 54, 4])\n"
          ]
        }
      ]
    },
    {
      "cell_type": "code",
      "source": [
        "print(inventory.items())"
      ],
      "metadata": {
        "colab": {
          "base_uri": "https://localhost:8080/"
        },
        "id": "_RFGGs-SlRZw",
        "outputId": "2dabaffb-7b50-4e61-fc7e-9444f1cc956d"
      },
      "execution_count": 8,
      "outputs": [
        {
          "output_type": "stream",
          "name": "stdout",
          "text": [
            "dict_items([('bananas', 25), ('apples', 102), ('oranges', 54), ('watermelons', 4)])\n"
          ]
        }
      ]
    },
    {
      "cell_type": "code",
      "source": [
        "for element in inventory:\n",
        "  print(element)"
      ],
      "metadata": {
        "colab": {
          "base_uri": "https://localhost:8080/"
        },
        "id": "Xph_mKf7lTTL",
        "outputId": "3105c548-7a46-45b6-bfc9-fc30bbf046c2"
      },
      "execution_count": 9,
      "outputs": [
        {
          "output_type": "stream",
          "name": "stdout",
          "text": [
            "bananas\n",
            "apples\n",
            "oranges\n",
            "watermelons\n"
          ]
        }
      ]
    },
    {
      "cell_type": "code",
      "source": [
        "for key in inventory:\n",
        "  inventory[key] += 100\n",
        " \n",
        "print(inventory) "
      ],
      "metadata": {
        "colab": {
          "base_uri": "https://localhost:8080/"
        },
        "id": "afU7szpGlXHW",
        "outputId": "cfa91eb2-8457-4d97-9e5b-b8d168d09fcb"
      },
      "execution_count": 10,
      "outputs": [
        {
          "output_type": "stream",
          "name": "stdout",
          "text": [
            "{'bananas': 125, 'apples': 202, 'oranges': 154, 'watermelons': 104}\n"
          ]
        }
      ]
    },
    {
      "cell_type": "code",
      "source": [
        "for key, value in inventory.items():\n",
        "    if value > 200:\n",
        "        print('Too many', key)\n",
        "    else:\n",
        "        print('Enough', key)"
      ],
      "metadata": {
        "colab": {
          "base_uri": "https://localhost:8080/"
        },
        "id": "mcNX0cu5laTs",
        "outputId": "e2ba290e-ffcd-456c-c7f8-88e472463f2a"
      },
      "execution_count": 11,
      "outputs": [
        {
          "output_type": "stream",
          "name": "stdout",
          "text": [
            "Enough bananas\n",
            "Too many apples\n",
            "Enough oranges\n",
            "Enough watermelons\n"
          ]
        }
      ]
    }
  ]
}