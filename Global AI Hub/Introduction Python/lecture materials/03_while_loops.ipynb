{
  "nbformat": 4,
  "nbformat_minor": 0,
  "metadata": {
    "colab": {
      "name": "While Loops.ipynb",
      "provenance": []
    },
    "kernelspec": {
      "name": "python3",
      "display_name": "Python 3"
    },
    "language_info": {
      "name": "python"
    }
  },
  "cells": [
    {
      "cell_type": "code",
      "execution_count": 1,
      "metadata": {
        "colab": {
          "base_uri": "https://localhost:8080/"
        },
        "id": "dp_fZfIh7VlF",
        "outputId": "a5261f60-22e5-4e53-83b3-0227ee361b43"
      },
      "outputs": [
        {
          "output_type": "stream",
          "name": "stdout",
          "text": [
            "Cold ❄️\n"
          ]
        }
      ],
      "source": [
        "celsius = 10\n",
        "\n",
        "if celsius > 30:\n",
        "  print('Hot 🔥')\n",
        "elif 30 >= celsius > 20:\n",
        "  print('Good 🟩')\n",
        "elif -273 < celsius <= 20:\n",
        "  print('Cold ❄️')\n",
        "else:\n",
        "  print('Something went wrong!')"
      ]
    },
    {
      "cell_type": "code",
      "source": [
        "celcius = 10\n",
        " \n",
        "while celcius < 50:\n",
        " \n",
        "  if celcius > 30:\n",
        "    print('Hot 🔥')\n",
        "  elif 30 >= celcius > 20:\n",
        "    print('Good 🟩')\n",
        "  elif -273 < celcius <= 20:              \n",
        "    print('Cold ❄️')\n",
        "  else:\n",
        "    print('Something went wrong!')"
      ],
      "metadata": {
        "id": "5f_D5ZJ77ZXI"
      },
      "execution_count": null,
      "outputs": []
    },
    {
      "cell_type": "code",
      "source": [
        "celcius = 10\n",
        " \n",
        "while celcius < 50:\n",
        " \n",
        "  if celcius > 30:\n",
        "    print('Hot 🔥')\n",
        "  elif 30 >= celcius > 20:\n",
        "    print('Good 🟩')\n",
        "  elif -273 < celcius <= 20:              \n",
        "    print('Cold ❄️')\n",
        "  else:\n",
        "    print('Something went wrong!')\n",
        "  celcius += 5"
      ],
      "metadata": {
        "colab": {
          "base_uri": "https://localhost:8080/"
        },
        "id": "vY_wJsZk7v_4",
        "outputId": "1e6112cf-feea-4eb9-9b4b-0157dad0b59e"
      },
      "execution_count": 2,
      "outputs": [
        {
          "output_type": "stream",
          "name": "stdout",
          "text": [
            "Cold ❄️\n",
            "Cold ❄️\n",
            "Cold ❄️\n",
            "Good 🟩\n",
            "Good 🟩\n",
            "Hot 🔥\n",
            "Hot 🔥\n",
            "Hot 🔥\n"
          ]
        }
      ]
    },
    {
      "cell_type": "code",
      "source": [
        "celcius = 10\n",
        " \n",
        "while celcius < 50:\n",
        " \n",
        "  if celcius > 30:\n",
        "    print('Hot 🔥')\n",
        "  elif 30 >= celcius > 20:\n",
        "    print('Good 🟩')\n",
        "  elif -273 < celcius <= 20:              \n",
        "    print('Cold ❄️')\n",
        "  else:\n",
        "    print('Something went wrong!')\n",
        "  print('The current temperature is',celcius)\n",
        "  celcius += 5"
      ],
      "metadata": {
        "colab": {
          "base_uri": "https://localhost:8080/"
        },
        "id": "J645vXrg71Nr",
        "outputId": "39c3cd20-248b-4926-fecc-806da13a4680"
      },
      "execution_count": 3,
      "outputs": [
        {
          "output_type": "stream",
          "name": "stdout",
          "text": [
            "Cold ❄️\n",
            "The current temperature is 10\n",
            "Cold ❄️\n",
            "The current temperature is 15\n",
            "Cold ❄️\n",
            "The current temperature is 20\n",
            "Good 🟩\n",
            "The current temperature is 25\n",
            "Good 🟩\n",
            "The current temperature is 30\n",
            "Hot 🔥\n",
            "The current temperature is 35\n",
            "Hot 🔥\n",
            "The current temperature is 40\n",
            "Hot 🔥\n",
            "The current temperature is 45\n"
          ]
        }
      ]
    },
    {
      "cell_type": "code",
      "source": [
        "import time\n",
        "celcius = 10\n",
        " \n",
        "while celcius < 50:\n",
        " \n",
        "  if celcius > 30:\n",
        "    print('Hot 🔥')\n",
        "  elif 30 >= celcius > 20:\n",
        "    print('Good 🟩')\n",
        "  elif -273 < celcius <= 20:              \n",
        "    print('Cold ❄️')\n",
        "  else:\n",
        "    print('Something went wrong!')\n",
        "  print('The current temperature is',celcius)\n",
        "  celcius += 5\n",
        "  time.sleep(1)"
      ],
      "metadata": {
        "colab": {
          "base_uri": "https://localhost:8080/"
        },
        "id": "K-qrD5Zh76aM",
        "outputId": "a554f4bd-2d54-4eca-992d-1f35f9064bad"
      },
      "execution_count": null,
      "outputs": [
        {
          "output_type": "stream",
          "name": "stdout",
          "text": [
            "Cold ❄️\n",
            "The current temperature is 10\n",
            "Cold ❄️\n",
            "The current temperature is 15\n",
            "Cold ❄️\n",
            "The current temperature is 20\n",
            "Good 🟩\n",
            "The current temperature is 25\n",
            "Good 🟩\n",
            "The current temperature is 30\n",
            "Hot 🔥\n",
            "The current temperature is 35\n",
            "Hot 🔥\n",
            "The current temperature is 40\n",
            "Hot 🔥\n",
            "The current temperature is 45\n"
          ]
        }
      ]
    },
    {
      "cell_type": "code",
      "source": [
        ""
      ],
      "metadata": {
        "id": "20NSTu8U79TO"
      },
      "execution_count": null,
      "outputs": []
    }
  ]
}