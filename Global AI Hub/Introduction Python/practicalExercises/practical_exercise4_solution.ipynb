{
  "nbformat": 4,
  "nbformat_minor": 0,
  "metadata": {
    "colab": {
      "name": "practical_exercise4_solution.ipynb",
      "provenance": [],
      "collapsed_sections": []
    },
    "kernelspec": {
      "name": "python3",
      "display_name": "Python 3"
    },
    "language_info": {
      "name": "python"
    }
  },
  "cells": [
    {
      "cell_type": "markdown",
      "source": [
        "# Practical exercise 4: Your own supermarket\n",
        "\n",
        "In this practical exercise, you are the owner of a supermarket.\n",
        "\n",
        "🛒 You will program an online shop to sell different types of items. \n",
        "\n",
        "Please read the instructions carefully. There are hints and important explanations that will help you with this exercise."
      ],
      "metadata": {
        "id": "tBDsFMQwBs6Z"
      }
    },
    {
      "cell_type": "markdown",
      "source": [
        "##Warm up\n",
        "\n",
        "Before we actually start, let's get a little more familiar with the data structures that will be useful in this exercise: lists, tuples and dictionaries. \n",
        "\n",
        "###(1) Lists\n",
        "\n",
        "First, create a shopping list with items that you want to purchase from your online shop later. You need to buy: milk, apples, oranges, potatoes and bread."
      ],
      "metadata": {
        "id": "ymULFKyosM3d"
      }
    },
    {
      "cell_type": "code",
      "source": [
        "#Please create a shopping list\n",
        "shopping_list = ['milk', 'apples', 'oranges', 'potatoes', 'bread']"
      ],
      "metadata": {
        "id": "0w6HGZBvsvru"
      },
      "execution_count": 2,
      "outputs": []
    },
    {
      "cell_type": "markdown",
      "source": [
        "You also want to buy bananas and onions, so you add those to your list.\n",
        "\n",
        "Remember, there are two different ways to add an item to a list. \n",
        "\n",
        "📌 You can use the .append() method to add bananas to your list.\n",
        "\n",
        "📌📌 You can use the .insert() method to add onions to your list. With this method you will also have to specify the position at which you want the item to be added.\n",
        "\n",
        "💣 Make sure to print your shopping list afterwards to check if the items were added."
      ],
      "metadata": {
        "id": "K0TMLWsQbfPE"
      }
    },
    {
      "cell_type": "code",
      "source": [
        "#Use the append method to add bananas to your list\n",
        "shopping_list.append('bananas')\n",
        "#Print your shopping list\n",
        "print(shopping_list)\n",
        "\n",
        "#Use insert method to add onions at a specific position in your list\n",
        "shopping_list.insert(2,'onions')\n",
        "\n",
        "#Print your shopping list\n",
        "print(shopping_list)"
      ],
      "metadata": {
        "colab": {
          "base_uri": "https://localhost:8080/"
        },
        "id": "YC3QlYU6NIrC",
        "outputId": "a058afa4-7768-40c1-f682-ac891399e4b0"
      },
      "execution_count": 3,
      "outputs": [
        {
          "output_type": "stream",
          "name": "stdout",
          "text": [
            "['milk', 'apples', 'oranges', 'potatoes', 'bread', 'bananas']\n",
            "['milk', 'apples', 'onions', 'oranges', 'potatoes', 'bread', 'bananas']\n"
          ]
        }
      ]
    },
    {
      "cell_type": "markdown",
      "source": [
        "Your roommate checks the shopping list and says that you already bought patatoes yesterday, so you decide to remove them from your list.\n",
        "\n",
        "📌 You can use the .remove() method to remove an item from your list."
      ],
      "metadata": {
        "id": "GVov48ohf4XA"
      }
    },
    {
      "cell_type": "code",
      "source": [
        "#Use the remove method to remove potatoes from the list\n",
        "shopping_list.remove('potatoes')\n",
        "#Print your shopping list\n",
        "print(shopping_list)"
      ],
      "metadata": {
        "colab": {
          "base_uri": "https://localhost:8080/"
        },
        "id": "uH7PHLQpPFNC",
        "outputId": "6f5b1517-6834-496c-cae2-71077b25376d"
      },
      "execution_count": 4,
      "outputs": [
        {
          "output_type": "stream",
          "name": "stdout",
          "text": [
            "['milk', 'apples', 'onions', 'oranges', 'bread', 'bananas']\n"
          ]
        }
      ]
    },
    {
      "cell_type": "markdown",
      "source": [
        "###(2) Tuples\n",
        "As a next step, lets make your list more informative, by adding the respective section in the store where you can find each item.\n",
        "\n",
        "You can do this by using tuples, which contain the name of the item and the respective section. For example \"fruits\", \"dairy\", \"bakery\".\n",
        "\n",
        "📌 Tuples are similar to lists, but you create them with round brackets, or parentheses ( ), instead of square ones [ ].\n",
        "\n",
        "Your list should follow this structure:\n",
        "```\n",
        "shopping_list = [('item1', 'section1'), ('item2', 'section2')]\n",
        "```\n",
        "\n"
      ],
      "metadata": {
        "id": "U7oyLFUNeFvL"
      }
    },
    {
      "cell_type": "code",
      "source": [
        "#Expand your list by adding tuples for each item\n",
        "shopping_list = [('milk', 'dairy'), ('apples', 'fruits'), ('onions', 'vegetables'), ('oranges', 'fruits'), ('bread','bakery'), ('bananas', 'fruits')]"
      ],
      "metadata": {
        "id": "m8SiT9xofIXR"
      },
      "execution_count": 5,
      "outputs": []
    },
    {
      "cell_type": "markdown",
      "source": [
        "Next, you want to use this list to print out where each item is available. \n",
        "\n",
        "The message could be as follows: \n",
        "\"You can find the [item] in the [section] section\"\n",
        "\n",
        "\n",
        "📌 You can use the for loop to pick each tuple at a time and unpack it inside the loop. \n",
        "\n",
        "📌📌 Finally, you can include the item and section variable in the print function.\n"
      ],
      "metadata": {
        "id": "eyQLiQ0-ftZF"
      }
    },
    {
      "cell_type": "code",
      "source": [
        "#Use for loop to iterate over list and get each tuple for unpacking\n",
        "for element in shopping_list:\n",
        "  #unpack the tuple into item and section variables \n",
        "  item, section = element\n",
        "  #print the message\n",
        "  print(\"You can find the\",item,\"in the\",section,\"section.\")"
      ],
      "metadata": {
        "colab": {
          "base_uri": "https://localhost:8080/"
        },
        "id": "t84kgxJIg7EZ",
        "outputId": "801be886-2d5c-455a-aaf3-324f0d3833f5"
      },
      "execution_count": 6,
      "outputs": [
        {
          "output_type": "stream",
          "name": "stdout",
          "text": [
            "You can find the milk in the dairy section.\n",
            "You can find the apples in the fruits section.\n",
            "You can find the onions in the vegetables section.\n",
            "You can find the oranges in the fruits section.\n",
            "You can find the bread in the bakery section.\n",
            "You can find the bananas in the fruits section.\n"
          ]
        }
      ]
    },
    {
      "cell_type": "markdown",
      "source": [
        "###(3) Dictionaries\n",
        "\n",
        "Another way to assign a section to each item is with dictionaries. Instead of a list containing multiple tuples, let's create a dictionary which contains the item as a key and the section as a value.\n",
        "\n",
        "📌 Dictionaries are created with curly braces { } and each item in a dictionary consists of key/value pairs.\n",
        "\n",
        "Your dictionary should follow this structure:\n",
        "```\n",
        "shopping_list = {'item1':'section1', 'item2':'section2'}\n",
        "```\n",
        "\n"
      ],
      "metadata": {
        "id": "ZFuZo1ShhYTy"
      }
    },
    {
      "cell_type": "code",
      "source": [
        "#Create a dictionary which contains the item as key and the section as value\n",
        "shopping_list = {'milk':'dairy', 'apples':'fruits', 'onions':'vegetables', 'oranges':'fruits', 'bread':'bakery', 'bananas':'fruits'}"
      ],
      "metadata": {
        "id": "_u68Uawrn0a0"
      },
      "execution_count": 7,
      "outputs": []
    },
    {
      "cell_type": "markdown",
      "source": [
        "We have learned different methods to access the items in a dictionary.\n",
        "\n",
        "Let's use them first to print only the keys, then only the values and finally the key/value pairs as a list of tuples.\n",
        "\n",
        "📌 You can use .keys() method to access the keys.\n",
        "\n",
        "📌 You can use the .values() method to access the values.\n",
        "\n",
        "📌 You can use the .items() method to access the key/value pairs.\n"
      ],
      "metadata": {
        "id": "PCHcI3wooUuk"
      }
    },
    {
      "cell_type": "code",
      "source": [
        "#Print the keys\n",
        "print(shopping_list.keys())\n",
        "\n",
        "#Print the values\n",
        "print(shopping_list.values())\n",
        "\n",
        "#Print the key/value pairs\n",
        "print(shopping_list.items())"
      ],
      "metadata": {
        "colab": {
          "base_uri": "https://localhost:8080/"
        },
        "id": "ujwOVRsPotS2",
        "outputId": "b18ca83e-7b19-4ce6-d729-c619fd68d7f1"
      },
      "execution_count": 8,
      "outputs": [
        {
          "output_type": "stream",
          "name": "stdout",
          "text": [
            "dict_keys(['milk', 'apples', 'onions', 'oranges', 'bread', 'bananas'])\n",
            "dict_values(['dairy', 'fruits', 'vegetables', 'fruits', 'bakery', 'fruits'])\n",
            "dict_items([('milk', 'dairy'), ('apples', 'fruits'), ('onions', 'vegetables'), ('oranges', 'fruits'), ('bread', 'bakery'), ('bananas', 'fruits')])\n"
          ]
        }
      ]
    },
    {
      "cell_type": "markdown",
      "source": [
        "# Set up the online shop\n",
        "\n",
        "So, now that you have a gained some experience, let's start with our main exercise!\n",
        "\n",
        "Of course, you first need to add all the items that will be available in your online shop. \n",
        "\n",
        "📌Create a dictionary for your inventory. For each item the key should be the name and the value should be a list containing price, stock, and section.\n",
        "\n",
        "📌📌 Your dictionary should follow this structure: \n",
        "```\n",
        "inventory = {'item1':[price, stock quantity,'section'], 'item2':[price, stock quantity,'section']}\n",
        "```\n",
        "💣 You can also write each item of the dictionary in its own line to make it more user-friendly:\n",
        "\n",
        "```\n",
        "inventory = {'item1':[price, stock quantity,'section'], \n",
        "             'item2':[price, stock quantity,'section']}\n",
        "```"
      ],
      "metadata": {
        "id": "cnWVzlo1vBy8"
      }
    },
    {
      "cell_type": "code",
      "source": [
        "#Create a dictionary for your inventory\n",
        "\n",
        "inventory = {'Milk':[4,1000,'dairy'],\n",
        "             \n",
        "             'Apples':[2,3,'fruits'],\n",
        "\n",
        "             'Onions':[1,50,'vegetables'],\n",
        "\n",
        "             'Oranges':[1.5,1000,'fruits'],\n",
        "\n",
        "             'Bread':[3,100,'bakery'],\n",
        "\n",
        "             'Bananas':[5,300,'fruits']}  "
      ],
      "metadata": {
        "id": "9N1XvG5lPZYb"
      },
      "execution_count": 10,
      "outputs": []
    },
    {
      "cell_type": "markdown",
      "source": [
        "# Your first client is here\n",
        "\n",
        "Now that your inverntory is set up, your first client visits the shop. Let's take a peak in their shopping list.\n",
        "\n",
        "📌 As we did in the warm up, let's create a shopping list for your first client with tuples for each item. This time, each tuple should consist of the item and the amount that they want to purchase.\n",
        "\n",
        "The list should follow this structure:\n",
        "\n",
        "```\n",
        "shopping_list = [('item1', amount),('item2', amount)]\n",
        "```\n",
        "\n"
      ],
      "metadata": {
        "id": "AU7K16IxSsTh"
      }
    },
    {
      "cell_type": "code",
      "source": [
        "#Create a shopping list that specifies how much of each item you want to purchase\n",
        "shopping_list = [('milk',1), ('apples',4), ('onions', 5), ('oranges',5), ('bread',2), ('bananas',10)]"
      ],
      "metadata": {
        "id": "ZfsnRwT5Ux4O"
      },
      "execution_count": 11,
      "outputs": []
    },
    {
      "cell_type": "markdown",
      "source": [
        "# What happens next? \n",
        "\n",
        "Everytime a customer wants to purchase something from your online shop, a few steps have to be taken. Here are the functions that will make your online shop work.\n",
        "\n",
        "##(1) Check the stock\n",
        "First, you have to make sure that you have sufficient stock of each item in your inventory. \n",
        "\n",
        "1. check_stock \n",
        "\n",
        "Define a function to check the stock quantity of the items in your shopping list. The function should take your shopping list and inventory as an argument. If there is not enough stock, the amount in your shopping list should be updated to the highest amount possible.\n",
        "\n",
        "\n",
        "💣 To start, create an empty shopping list, in which the items and their updated amounts will be written in as tuples. Remember that we cannot update them because tuples are immutable.\n",
        "\n",
        "📌 You can use a for loop to iterate over each item inside the shopping list.\n",
        "\n",
        "📌 You can then unpack the tuples to access each item and amount separately.\n",
        "\n",
        "📌 To access the available stock in your inventory dictionary, use the item as a key, then the corresponding index in the values list and check if there is enough stock. \n",
        "\n",
        "📌 The print function can help you to inform the client which items are out of stock and what the available amount is.\n",
        "\n",
        "📌 Update the amount if necessary and append the item and amount to your updated shopping list."
      ],
      "metadata": {
        "id": "7pPSFAdBUqHm"
      }
    },
    {
      "cell_type": "code",
      "source": [
        "#Define the check_stock function\n",
        "def check_stock(shopping_list, inventory):\n",
        "  #Create the empty shopping_list_updated\n",
        "  updated_shopping_list = []\n",
        "  #Write a for loop to iterate over each item in your shopping list\n",
        "  for element in shopping_list:\n",
        "    item, amount = element\n",
        "    #Access the available stock in your inventory\n",
        "    inventory_value = inventory[item]\n",
        "    if amount > inventory_value[1]:\n",
        "      amount = inventory_value[1]\n",
        "      print(\"We dont have enough stock of\", item,\"you can buy a maximum amount of\",inventory_value[1])\n",
        "    #append item and amount to your updated shopping list\n",
        "    updated_shopping_list.append((item,amount))\n",
        "  return updated_shopping_list"
      ],
      "metadata": {
        "id": "fHnIa5_o1em8"
      },
      "execution_count": null,
      "outputs": []
    },
    {
      "cell_type": "markdown",
      "source": [
        "2. compute_bill\n",
        "\n",
        "Next, we need to define a function to compute the bill and the price that has to be payed in the checkout. The function should take your **updated** shopping list and inventory as an argument.\n",
        "\n",
        "💣 In the beginning of the function, you need to create a bill variable and assign 0 to it.\n",
        "\n",
        "📌 You can use a for loop to iterate over each item inside the updated shopping list.\n",
        "\n",
        "📌 You can then unpack the tuples to access each item and amount separately.\n",
        "\n",
        "📌 To access the price in your inventory dictionary use the item as a key, then the corresponding index in the values list.\n",
        "\n",
        "📌 Compute the price for the amount inside your client's updated shopping list and add it to your bill variable. \n"
      ],
      "metadata": {
        "id": "FeUryrwN-Cy_"
      }
    },
    {
      "cell_type": "code",
      "source": [
        "#Define the compute_bill function\n",
        "def compute_bill(updated_shopping_list, inventory):\n",
        "  #Create a bill variable that equals 0\n",
        "  bill = 0\n",
        "  #Write a for loop to iterate over each item in your updated shopping list\n",
        "  for element in updated_shopping_list:\n",
        "    item, amount = element\n",
        "    #access the price in your inventory\n",
        "    inventory_value= inventory[item]\n",
        "    #Compute the price and add it to the bill\n",
        "    bill += inventory_value[0] * amount\n",
        "  return bill"
      ],
      "metadata": {
        "id": "PfYhT-_skm6H"
      },
      "execution_count": null,
      "outputs": []
    },
    {
      "cell_type": "markdown",
      "source": [
        "3. update_stock\n",
        "\n",
        "Your last function should update your store inventory after items were purchased. The function should take your **updated** shopping list and inventory as an argument.\n",
        "\n",
        "📌 You can use a for loop to iterate over each item inside the updated shopping list.\n",
        "\n",
        "📌 You can then unpack the tuples to access each item and amount separately.\n",
        "\n",
        "📌 To access the stock in your inventory dictionary use the item as a key, then the corresponding index in the values list.\n",
        "\n",
        "📌 Decrease the stock in your inventory by the amount that was purchased. \n"
      ],
      "metadata": {
        "id": "rY4TwQ-M-eBl"
      }
    },
    {
      "cell_type": "code",
      "source": [
        "#Define the update_stock function \n",
        "def update_stock(updated_shopping_list, inventory):\n",
        "  #Write a for loop to iterate over each item in your updated shopping list\n",
        "  for element in updated_shopping_list:\n",
        "    item, amount = element\n",
        "    #access the stock in your inventory\n",
        "    inventory_value = inventory[item]\n",
        "    #Decrease the stock by the amount that was purchased\n",
        "    inventory_value[1] = inventory_value[1] - amount\n",
        "  \n",
        "  return inventory\n",
        "\n"
      ],
      "metadata": {
        "id": "Vm6X-Crvr4lp"
      },
      "execution_count": null,
      "outputs": []
    },
    {
      "cell_type": "markdown",
      "source": [
        "# Time to test if everything is working!\n",
        "\n"
      ],
      "metadata": {
        "id": "xlh49KnZyl0L"
      }
    },
    {
      "cell_type": "markdown",
      "source": [
        "Now that you have your functions set up, you are ready to fulfil your client's shopping list.\n",
        "\n",
        "1. Call the check_stock function\n",
        "\n",
        "💣 The first thing that you need to do is to check whether there is enough stock available in your online shop. \n",
        "\n",
        "📌 Use the check_stock function to check if there is enough stock and if not, to update your shopping list accordingly.\n",
        "\n",
        "📌 Next, print the following statement:\n",
        "\n",
        "\"Your updated shopping list is: [shopping_list]\""
      ],
      "metadata": {
        "id": "22SoF5NyGWeQ"
      }
    },
    {
      "cell_type": "code",
      "source": [
        "#Call check_stock function for your shopping list\n",
        "updated_shopping_list = check_stock(shopping_list, inventory)\n",
        "print(\"Your updated shopping list:\", updated_shopping_list)"
      ],
      "metadata": {
        "colab": {
          "base_uri": "https://localhost:8080/"
        },
        "id": "bdlEyJC2xPOw",
        "outputId": "8a7ac795-6f39-4fc6-b577-dd67f4e4cf9f"
      },
      "execution_count": null,
      "outputs": [
        {
          "output_type": "stream",
          "name": "stdout",
          "text": [
            "We dont have enough stock of Apples you can buy a maximum amount of 3\n",
            "Your updated shopping list: [('Milk', 1), ('Apples', 3), ('Onions', 5), ('Oranges', 5), ('Bread', 2), ('Bananas', 10)]\n"
          ]
        }
      ]
    },
    {
      "cell_type": "markdown",
      "source": [
        "2.  Call the compute_bill function\n",
        "\n",
        "Now you are sure that all items in your list are available, you need to compute how much you have to pay.\n",
        "\n",
        "📌 Use the compute_bill function to find out how much you have to pay.\n",
        "\n",
        "💣 Make sure that you give the **updated** shopping list as an argument!\n",
        "\n",
        "📌 Next, print the following statement:\n",
        "\"Total price: [bill] $\""
      ],
      "metadata": {
        "id": "oRiKfikSMQ0s"
      }
    },
    {
      "cell_type": "code",
      "source": [
        "#Call the compute_bill function for your updated shopping list\n",
        "bill = compute_bill(updated_shopping_list, inventory)\n",
        "print(\"Total price:\",bill,\"$\")"
      ],
      "metadata": {
        "colab": {
          "base_uri": "https://localhost:8080/"
        },
        "id": "ynk3rKhOMyP1",
        "outputId": "6c152030-8c66-4eab-c1b4-d0ba5a00380b"
      },
      "execution_count": null,
      "outputs": [
        {
          "output_type": "stream",
          "name": "stdout",
          "text": [
            "Total price: 78.5 $\n"
          ]
        }
      ]
    },
    {
      "cell_type": "markdown",
      "source": [
        "3.   Call the update_stock function\n",
        "\n",
        "Lastly, you have to make sure that your inventory gets updated after the purchase. \n",
        "\n",
        "📌 Use the update_stock function to update the inventory stock.\n",
        "\n",
        "💣 Make sure that you give the **updated** shopping list as an argument!\n",
        "\n",
        "📌 Next, print the following statement:\n",
        "\"The inventory has been updated: [inventory]\""
      ],
      "metadata": {
        "id": "eUORhgOvM1BK"
      }
    },
    {
      "cell_type": "code",
      "source": [
        "#Call the update_stock function for your updated shopping list\n",
        "new_inventory = update_stock(updated_shopping_list, inventory)\n",
        "print(\"The inventory was updated:\", new_inventory)"
      ],
      "metadata": {
        "colab": {
          "base_uri": "https://localhost:8080/"
        },
        "id": "8hyBJ49qNNFM",
        "outputId": "d4be28c8-71da-437d-ac55-b1dff2ae6140"
      },
      "execution_count": null,
      "outputs": [
        {
          "output_type": "stream",
          "name": "stdout",
          "text": [
            "The inventory was updated: {'Milk': [4, 999, 'Dairy'], 'Apples': [2, 0, 'Fruits'], 'Onions': [1, 45, 'Vegetables'], 'Oranges': [1.5, 995, 'Fruits'], 'Bread': [3, 98, 'Bakery'], 'Bananas': [5, 290, 'Fruits']}\n"
          ]
        }
      ]
    }
  ]
}